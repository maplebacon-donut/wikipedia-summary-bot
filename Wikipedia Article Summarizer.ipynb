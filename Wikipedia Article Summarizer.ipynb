{
 "metadata": {
  "kernelspec": {
   "display_name": "Streamlit Notebook",
   "name": "streamlit"
  },
  "lastEditStatus": {
   "notebookId": "qpe55qiqbz5c5lnobudd",
   "authorId": "362781096600",
   "authorName": "AMBER",
   "authorEmail": "amber.huppert@snowflake.com",
   "sessionId": "657f97fd-b0bc-4d3e-99f7-9e3729456777",
   "lastEditTime": 1738716993686
  }
 },
 "nbformat_minor": 5,
 "nbformat": 4,
 "cells": [
  {
   "cell_type": "code",
   "id": "f9e21b63-19ca-4ab5-b24c-c25b710c0a48",
   "metadata": {
    "language": "sql",
    "name": "cell5"
   },
   "outputs": [],
   "source": "CREATE OR REPLACE NETWORK RULE external_network_rule\n  MODE = EGRESS\n  TYPE = HOST_PORT\n  VALUE_LIST = ('en.wikipedia.org:443');\n  \nCREATE OR REPLACE EXTERNAL ACCESS INTEGRATION wikipedia_access_integration\n  ALLOWED_NETWORK_RULES = (wikipedia_network_rule)\n  ENABLED = true;\n\n\nCREATE OR REPLACE FUNCTION wiki_via_python(url STRING)\nRETURNS STRING\nLANGUAGE PYTHON\nRUNTIME_VERSION = 3.8\nHANDLER = 'get_page'\nEXTERNAL_ACCESS_INTEGRATIONS = (wikipedia_access_integration)\nPACKAGES = ('requests', 'beautifulsoup4')\nAS\n$$\nimport _snowflake\nimport requests\nfrom bs4 import BeautifulSoup\n\ndef get_page(url):\n  response = requests.get(f\"{url}\")\n  soup = BeautifulSoup(response.text)\n  return soup.get_text()\n$$;",
   "execution_count": null
  },
  {
   "cell_type": "code",
   "id": "3775908f-ca36-4846-8f38-5adca39217f2",
   "metadata": {
    "language": "sql",
    "name": "cell1"
   },
   "source": "-- Extract a Single URL\nselect wiki_via_python('https://en.wikipedia.org/wiki/67th_Annual_Grammy_Awards');",
   "execution_count": null,
   "outputs": []
  },
  {
   "cell_type": "code",
   "id": "63ee2f8f-e7ea-42be-92d1-149e35bbdcb0",
   "metadata": {
    "language": "sql",
    "name": "cell4"
   },
   "outputs": [],
   "source": "-- Cortex Summarize has a 32,000 token limit\n-- https://docs.snowflake.com/en/user-guide/snowflake-cortex/llm-functions\nwith api_result as (\n    select left(wiki_via_python('https://en.wikipedia.org/wiki/Permian%E2%80%93Triassic_extinction_event'), 32000) as res\n)\nselect SNOWFLAKE.CORTEX.SUMMARIZE(res) from api_result;",
   "execution_count": null
  },
  {
   "cell_type": "code",
   "id": "c695373e-ac74-4b62-a1f1-08206cbd5c81",
   "metadata": {
    "language": "python",
    "name": "cell3"
   },
   "source": "import streamlit as st\nfrom snowflake.snowpark.context import get_active_session\nlink = st.text_input(label='Input Your Wikipedia Link to Summarize the Page')\n\nsummary = '' \n\nif link:\n    with st.spinner('Fetching Summary...'):\n        session = get_active_session()\n        df = session.sql(f\"with api_result as (select left(wiki_via_python('{link}'), 32000) as res) select SNOWFLAKE.CORTEX.SUMMARIZE(res) from api_result\")\n        summary = df.collect()[0][0]\n        st.write(summary)",
   "execution_count": null,
   "outputs": []
  },
  {
   "cell_type": "code",
   "id": "9c5e7c25-80d5-4585-b1f5-41cdf4c15e9a",
   "metadata": {
    "language": "python",
    "name": "cell2"
   },
   "outputs": [],
   "source": "summary = '''The 67th Annual Grammy Awards honored the best recordings, compositions, and artists from September 16, 2023, to August 30, 2024. The ceremony took place at Crypto.com Arena in Los Angeles on February 2, 2025, and was broadcast on CBS and Paramount+. Kendrick Lamar's \"Not Like Us\" won five awards, including Record and Song of the Year, making it the most decorated rap song in Grammy history. Beyoncé received the most nominations with eleven and won three awards, including Album of the Year for Cowboy Carter. Chappell Roan and Sabrina Carpenter were among the other notable winners. The ceremony carried a renewed sense of purpose, raising additional funds for wildfire relief efforts and honoring first responders.'''\nprint(summary.replace(\"\\'\", \"\\\\'\"))",
   "execution_count": null
  },
  {
   "cell_type": "code",
   "id": "8b88975f-ab24-445d-acc7-723ebbd18522",
   "metadata": {
    "language": "sql",
    "name": "cell6"
   },
   "outputs": [],
   "source": "set summary = 'The 67th Annual Grammy Awards honored the best recordings, compositions, and artists from September 16, 2023, to August 30, 2024. The ceremony took place at Crypto.com Arena in Los Angeles on February 2, 2025, and was broadcast on CBS and Paramount+. Kendrick Lamar\\'s \"Not Like Us\" won five awards, including Record and Song of the Year, making it the most decorated rap song in Grammy history. Beyoncé received the most nominations with eleven and won three awards, including Album of the Year for Cowboy Carter. Chappell Roan and Sabrina Carpenter were among the other notable winners. The ceremony carried a renewed sense of purpose, raising additional funds for wildfire relief efforts and honoring first responders.'",
   "execution_count": null
  },
  {
   "cell_type": "code",
   "id": "2ae79026-d2e4-454e-acff-4385ccab60d8",
   "metadata": {
    "language": "python",
    "name": "cell10"
   },
   "outputs": [],
   "source": "st.write(summary)\n\nhtml_format_btn = st.button('Generate Markdown for Summary')\n\nif html_format_btn:\n    with st.spinner('Generating Markdown...'):\n        summary_formatted = summary.replace(\"\\'\", \"\\\\'\")\n        prompt = 'Generate a beautifully formatted slack message using slack markdown formatting, using the following text, but do not include additional messages before or after the resopnse. Where there should be a new line, use a new line operator instead.';\n        summary_with_markdown = session.sql(f\"select snowflake.cortex.complete('llama3.1-405b',concat('{prompt}','{summary_formatted}'));\").collect()[0][0]\n        st.markdown(f'{summary_with_markdown}')",
   "execution_count": null
  },
  {
   "cell_type": "code",
   "id": "d34af4cf-1ee3-4c11-bb55-ffbcc033dfab",
   "metadata": {
    "language": "sql",
    "name": "cell8"
   },
   "outputs": [],
   "source": "CREATE OR REPLACE NETWORK RULE slack_webhook_network_rule\n  MODE = EGRESS\n  TYPE = HOST_PORT\n  VALUE_LIST = ('hooks.slack.com');\n\nCREATE OR REPLACE SECRET my_slack_webhook_secret\n  TYPE = GENERIC_STRING\n  SECRET_STRING = '';\n\nCREATE OR REPLACE EXTERNAL ACCESS INTEGRATION slack_webhook_access_integration\n  ALLOWED_NETWORK_RULES = (slack_webhook_network_rule)\n  ALLOWED_AUTHENTICATION_SECRETS = (my_slack_webhook_secret)\n  ENABLED = true;",
   "execution_count": null
  },
  {
   "cell_type": "code",
   "id": "e3e3a9b3-8cde-47d2-803a-7fccd38a8615",
   "metadata": {
    "language": "sql",
    "name": "cell9"
   },
   "outputs": [],
   "source": "CREATE OR REPLACE PROCEDURE send_slack_message(MSG string)\nRETURNS STRING\nLANGUAGE PYTHON\nRUNTIME_VERSION = 3.10\nHANDLER = 'main'\nEXTERNAL_ACCESS_INTEGRATIONS = (slack_webhook_access_integration)\nSECRETS = ('slack_url' = my_slack_webhook_secret)\nPACKAGES = ('snowflake-snowpark-python', 'requests')\nEXECUTE AS CALLER\nAS\n$$\nimport snowflake.snowpark as snowpark\nimport json\nimport requests\nimport _snowflake\nfrom datetime import date\n\ndef main(session, msg):\n    webhook_url = _snowflake.get_generic_secret_string('slack_url')\n\n    slack_data = {\"message\": f\"{msg}\"}\n\n    response = requests.post(\n        webhook_url, data=json.dumps(slack_data),\n        headers={'Content-Type': 'application/json'}\n    )\n    if response.status_code != 200:\n        raise ValueError(\n            'Request to slack returned an error %s, the response is:\\n%s'\n            % (response.status_code, response.text)\n        )\n    \n    return \"SUCCESS\"\n$$;",
   "execution_count": null
  },
  {
   "cell_type": "code",
   "id": "1ffdf8f4-428f-4a86-9799-62df92f79a92",
   "metadata": {
    "language": "python",
    "name": "cell15"
   },
   "outputs": [],
   "source": "st.write(f'{summary_with_markdown}')\n\nsend_slack_btn = st.button('Send Summary to Slack')   \n\nif send_slack_btn:\n    with st.spinner('Sending summary to Slack...'):\n        summary_markdown_formatted = summary_with_markdown.replace(\"\\'\", \"\\\\'\")\n        result = session.sql(f\"call send_slack_message('{summary_markdown_formatted}')\").collect()\n        st.write(result)",
   "execution_count": null
  }
 ]
}